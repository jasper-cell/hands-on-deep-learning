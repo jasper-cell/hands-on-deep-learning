{
 "cells": [
  {
   "cell_type": "markdown",
   "metadata": {},
   "source": [
    "# DenseNet"
   ]
  },
  {
   "cell_type": "markdown",
   "metadata": {},
   "source": [
    "### 稠密块"
   ]
  },
  {
   "cell_type": "code",
   "execution_count": 2,
   "metadata": {},
   "outputs": [],
   "source": [
    "import time\n",
    "import torch\n",
    "from torch import nn,optim\n",
    "import torch.nn.functional as F\n",
    "\n",
    "import sys\n",
    "sys.path.append(\"..\")\n",
    "import d2lzh_pytorch as d2l\n",
    "device = torch.device('cuda' if torch.cuda.is_available() else 'cpu')\n",
    "\n",
    "def conv_block(in_channels,out_channels):\n",
    "    blk = nn.Sequential(nn.BatchNorm2d(in_channels),\n",
    "                       nn.ReLU(),\n",
    "                       nn.Conv2d(in_channels,out_channels,kernel_size=3,padding=1))\n",
    "    return blk"
   ]
  },
  {
   "cell_type": "markdown",
   "metadata": {},
   "source": [
    "稠密块由多个conv_block组成，每块使用相同的输出通道数。但向前计算时，我们将每块的输入和输出在通道维上连结。"
   ]
  },
  {
   "cell_type": "code",
   "execution_count": 5,
   "metadata": {},
   "outputs": [],
   "source": [
    "class DenseBlock(nn.Module):\n",
    "    def __init__(self,num_convs,in_channels,out_channels):\n",
    "        super(DenseBlock,self).__init__()\n",
    "        net = []\n",
    "        for i in range(num_convs):\n",
    "            in_c = in_channels + i * out_channels\n",
    "            net.append(conv_block(in_c,out_channels))\n",
    "        self.net = nn.ModuleList(net)\n",
    "        self.out_channels = in_channels + num_convs*out_channels\n",
    "    \n",
    "    def forward(self,X):\n",
    "        for blk in self.net:\n",
    "            Y = blk(X)\n",
    "            X = torch.cat((X,Y),dim=1)#在通道维上将输入和输出连接\n",
    "        return X"
   ]
  },
  {
   "cell_type": "code",
   "execution_count": 6,
   "metadata": {},
   "outputs": [
    {
     "data": {
      "text/plain": [
       "torch.Size([4, 23, 8, 8])"
      ]
     },
     "execution_count": 6,
     "metadata": {},
     "output_type": "execute_result"
    }
   ],
   "source": [
    "blk = DenseBlock(2,3,10)\n",
    "X = torch.rand(4,3,8,8)\n",
    "Y = blk(X)\n",
    "Y.shape"
   ]
  },
  {
   "cell_type": "markdown",
   "metadata": {},
   "source": [
    "### 过渡层"
   ]
  },
  {
   "cell_type": "markdown",
   "metadata": {},
   "source": [
    "由于每个稠密块都会带来通道数的增加，使用过多则会带来过于复杂的模型。过渡层\n",
    "用来控制模型复杂度。它通过1x1卷积层来减小通道数，并使用步幅为2的平均池化层减半高和宽，\n",
    "从而进一步降低模型复杂度。"
   ]
  },
  {
   "cell_type": "code",
   "execution_count": 7,
   "metadata": {},
   "outputs": [],
   "source": [
    "def transition_block(in_channels,out_channels):\n",
    "    blk = nn.Sequential(nn.BatchNorm2d(in_channels),\n",
    "                       nn.ReLU(),\n",
    "                       nn.Conv2d(in_channels,out_channels,kernel_size=1),\n",
    "                       nn.AvgPool2d(kernel_size=2,stride=2))\n",
    "    return blk"
   ]
  },
  {
   "cell_type": "code",
   "execution_count": 8,
   "metadata": {},
   "outputs": [
    {
     "data": {
      "text/plain": [
       "torch.Size([4, 10, 4, 4])"
      ]
     },
     "execution_count": 8,
     "metadata": {},
     "output_type": "execute_result"
    }
   ],
   "source": [
    "blk = transition_block(23,10)\n",
    "blk(Y).shape"
   ]
  },
  {
   "cell_type": "markdown",
   "metadata": {},
   "source": [
    "## DenseNet模型"
   ]
  },
  {
   "cell_type": "markdown",
   "metadata": {},
   "source": [
    "我们来构造DENSENET模型。首先使用与Resnet一样的单层卷积和最大池化层"
   ]
  },
  {
   "cell_type": "code",
   "execution_count": 10,
   "metadata": {},
   "outputs": [],
   "source": [
    "net = nn.Sequential(nn.Conv2d(1,64,kernel_size=7,stride=2,padding=3),\n",
    "                   nn.BatchNorm2d(64),\n",
    "                   nn.ReLU(),\n",
    "                   nn.MaxPool2d(kernel_size=3,stride=2,padding=1))"
   ]
  },
  {
   "cell_type": "markdown",
   "metadata": {},
   "source": [
    "类似于Resnet接下来使用的4个残差块，Densenet使用的是4个稠密块。同Resnet一样，我们可以设置每个稠密块使用多少个卷积层。\n",
    "这里我们设置为4，从而与上一节的Resnet保持一致。稠密块里的卷积层通道数即增长率）设为32，所以每个稠密块将增加128个通道。"
   ]
  },
  {
   "cell_type": "markdown",
   "metadata": {},
   "source": [
    "Resnet里通过步幅为2的残差块在每个模块之间减小高和宽。这里我们使用过渡层来减半高和宽。并减半通道数。"
   ]
  },
  {
   "cell_type": "code",
   "execution_count": 12,
   "metadata": {},
   "outputs": [],
   "source": [
    "num_channels,growth_rate = 64,32\n",
    "num_convs_in_dense_blocks = [4,4,4,4]\n",
    "\n",
    "for i,num_convs in enumerate(num_convs_in_dense_blocks):\n",
    "    DB = DenseBlock(num_convs,num_channels,growth_rate)\n",
    "    net.add_module(\"DenseBlock_%d\" % i,DB)\n",
    "    #上一个稠密块的通道数\n",
    "    num_channels = DB.out_channels\n",
    "    #在稠密块之间加入通道数减半的过渡层\n",
    "    if i != len(num_convs_in_dense_blocks) -1:\n",
    "        net.add_module(\"transition_block_%d\" %i,\n",
    "                      transition_block(num_channels,num_channels//2))\n",
    "        num_channels = num_channels//2\n",
    "\n",
    "net.add_module('BN',nn.BatchNorm2d(num_channels))\n",
    "net.add_module('relu',nn.ReLU())\n",
    "net.add_module('global_avg_pool',d2l.GlobalAvgPool2d())\n",
    "net.add_module('fc',nn.Sequential(d2l.FlattenLayer(),nn.Linear(num_channels,10)))"
   ]
  },
  {
   "cell_type": "code",
   "execution_count": 13,
   "metadata": {},
   "outputs": [
    {
     "name": "stdout",
     "output_type": "stream",
     "text": [
      "0 output shape:\t torch.Size([1, 64, 48, 48])\n",
      "1 output shape:\t torch.Size([1, 64, 48, 48])\n",
      "2 output shape:\t torch.Size([1, 64, 48, 48])\n",
      "3 output shape:\t torch.Size([1, 64, 24, 24])\n",
      "DenseBlock_0 output shape:\t torch.Size([1, 192, 24, 24])\n",
      "transition_block_0 output shape:\t torch.Size([1, 96, 12, 12])\n",
      "DenseBlock_1 output shape:\t torch.Size([1, 224, 12, 12])\n",
      "transition_block_1 output shape:\t torch.Size([1, 112, 6, 6])\n",
      "DenseBlock_2 output shape:\t torch.Size([1, 240, 6, 6])\n",
      "transition_block_2 output shape:\t torch.Size([1, 120, 3, 3])\n",
      "DenseBlock_3 output shape:\t torch.Size([1, 248, 3, 3])\n",
      "BN output shape:\t torch.Size([1, 248, 3, 3])\n",
      "relu output shape:\t torch.Size([1, 248, 3, 3])\n",
      "global_avg_pool output shape:\t torch.Size([1, 248, 1, 1])\n",
      "fc output shape:\t torch.Size([1, 10])\n"
     ]
    }
   ],
   "source": [
    "X = torch.rand(1,1,96,96)\n",
    "for name,layer in net.named_children():\n",
    "    X = layer(X)\n",
    "    print(name,'output shape:\\t',X.shape)"
   ]
  },
  {
   "cell_type": "code",
   "execution_count": null,
   "metadata": {},
   "outputs": [],
   "source": [
    "batch_size = 256\n",
    "train_iter ,test_iter = d2l.load_data_fashion_mnist(batch_size,resize=96)\n",
    "\n",
    "lr,num_epochs = 0.001,5\n",
    "optimizer = torch.optim.Adam(net.parameters(),lr=lr)\n",
    "d2l.train_ch5(net,train_iter,test_iter,batch_size,optimizer,device,num_epochs)"
   ]
  }
 ],
 "metadata": {
  "kernelspec": {
   "display_name": "Python 3",
   "language": "python",
   "name": "python3"
  },
  "language_info": {
   "codemirror_mode": {
    "name": "ipython",
    "version": 3
   },
   "file_extension": ".py",
   "mimetype": "text/x-python",
   "name": "python",
   "nbconvert_exporter": "python",
   "pygments_lexer": "ipython3",
   "version": "3.7.0"
  }
 },
 "nbformat": 4,
 "nbformat_minor": 2
}
