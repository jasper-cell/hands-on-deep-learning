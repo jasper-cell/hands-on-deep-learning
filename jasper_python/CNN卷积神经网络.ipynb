{
 "cells": [
  {
   "cell_type": "code",
   "execution_count": 1,
   "metadata": {},
   "outputs": [],
   "source": [
    "import os\n",
    "import torch\n",
    "import torch.utils.data as Data\n",
    "import torch.nn as nn\n",
    "import torchvision\n",
    "import numpy \n",
    "import matplotlib.pyplot as plt"
   ]
  },
  {
   "cell_type": "code",
   "execution_count": 2,
   "metadata": {},
   "outputs": [
    {
     "data": {
      "text/plain": [
       "<torch._C.Generator at 0x1f728002650>"
      ]
     },
     "execution_count": 2,
     "metadata": {},
     "output_type": "execute_result"
    }
   ],
   "source": [
    "torch.manual_seed(1)"
   ]
  },
  {
   "cell_type": "code",
   "execution_count": 3,
   "metadata": {},
   "outputs": [],
   "source": [
    "#hyper parameters\n",
    "EPOCH = 1\n",
    "BATCH_SIZE = 50\n",
    "LR = 0.001\n",
    "DOWNLOAD_MNIST = False"
   ]
  },
  {
   "cell_type": "code",
   "execution_count": 4,
   "metadata": {},
   "outputs": [],
   "source": [
    "#mnist digits dataset\n",
    "if not(os.path.exists('./mnist/')) or not os.listdir('./mnist/'):\n",
    "    DOWNLOAD_MNIST = True"
   ]
  },
  {
   "cell_type": "code",
   "execution_count": 5,
   "metadata": {},
   "outputs": [
    {
     "name": "stdout",
     "output_type": "stream",
     "text": [
      "Downloading http://yann.lecun.com/exdb/mnist/train-images-idx3-ubyte.gz to ./mnist/MNIST\\raw\\train-images-idx3-ubyte.gz\n"
     ]
    },
    {
     "name": "stderr",
     "output_type": "stream",
     "text": [
      "100%|██████████████████████████████████████████████████████████████████▊| 9887744/9912422 [00:10<00:00, 1184330.09it/s]"
     ]
    },
    {
     "name": "stdout",
     "output_type": "stream",
     "text": [
      "Extracting ./mnist/MNIST\\raw\\train-images-idx3-ubyte.gz to ./mnist/MNIST\\raw\n",
      "Downloading http://yann.lecun.com/exdb/mnist/train-labels-idx1-ubyte.gz to ./mnist/MNIST\\raw\\train-labels-idx1-ubyte.gz\n"
     ]
    },
    {
     "name": "stderr",
     "output_type": "stream",
     "text": [
      "\n",
      "0it [00:00, ?it/s]\n",
      "  0%|                                                                                        | 0/28881 [00:00<?, ?it/s]\n",
      " 57%|█████████████████████████████████████████▍                               | 16384/28881 [00:01<00:00, 24841.77it/s]\n",
      " 85%|██████████████████████████████████████████████████████████████           | 24576/28881 [00:02<00:00, 12385.09it/s]\n",
      "32768it [00:04, 8750.94it/s]                                                                                           \n"
     ]
    },
    {
     "name": "stdout",
     "output_type": "stream",
     "text": [
      "Extracting ./mnist/MNIST\\raw\\train-labels-idx1-ubyte.gz to ./mnist/MNIST\\raw\n",
      "Downloading http://yann.lecun.com/exdb/mnist/t10k-images-idx3-ubyte.gz to ./mnist/MNIST\\raw\\t10k-images-idx3-ubyte.gz\n"
     ]
    },
    {
     "name": "stderr",
     "output_type": "stream",
     "text": [
      "\n",
      "0it [00:00, ?it/s]\n",
      "  0%|                                                                                      | 0/1648877 [00:00<?, ?it/s]\n",
      "  5%|███▊                                                                  | 90112/1648877 [00:00<00:02, 771296.99it/s]\n",
      " 10%|███████▏                                                             | 172032/1648877 [00:00<00:01, 784090.65it/s]\n",
      " 14%|█████████▉                                                           | 237568/1648877 [00:00<00:02, 703317.39it/s]\n",
      " 19%|█████████████▎                                                       | 319488/1648877 [00:00<00:01, 713392.37it/s]\n",
      " 23%|███████████████▊                                                     | 376832/1648877 [00:01<00:02, 608065.36it/s]\n",
      " 26%|██████████████████▏                                                  | 434176/1648877 [00:01<00:02, 594284.94it/s]\n",
      " 30%|████████████████████▌                                                | 491520/1648877 [00:01<00:02, 532204.36it/s]\n",
      " 33%|██████████████████████▉                                              | 548864/1648877 [00:01<00:02, 455099.10it/s]\n",
      " 36%|█████████████████████████                                            | 598016/1648877 [00:01<00:02, 451315.73it/s]\n",
      " 39%|███████████████████████████                                          | 647168/1648877 [00:01<00:02, 395588.32it/s]\n",
      " 42%|████████████████████████████▊                                        | 688128/1648877 [00:01<00:02, 356542.30it/s]\n",
      " 45%|███████████████████████████████▏                                     | 745472/1648877 [00:02<00:02, 381458.95it/s]\n",
      " 48%|████████████████████████████████▉                                    | 786432/1648877 [00:02<00:02, 378624.31it/s]\n",
      " 54%|█████████████████████████████████████                                | 884736/1648877 [00:02<00:01, 458472.31it/s]\n",
      " 58%|████████████████████████████████████████                             | 958464/1648877 [00:02<00:01, 503123.01it/s]\n",
      " 63%|██████████████████████████████████████████▉                         | 1040384/1648877 [00:02<00:01, 555066.04it/s]\n",
      " 67%|█████████████████████████████████████████████▌                      | 1105920/1648877 [00:02<00:01, 503350.52it/s]\n",
      " 71%|███████████████████████████████████████████████▉                    | 1163264/1648877 [00:02<00:00, 514008.82it/s]\n",
      " 74%|██████████████████████████████████████████████████▎                 | 1220608/1648877 [00:02<00:00, 495242.87it/s]\n",
      " 79%|█████████████████████████████████████████████████████▋              | 1302528/1648877 [00:02<00:00, 561614.87it/s]\n",
      " 83%|████████████████████████████████████████████████████████▍           | 1368064/1648877 [00:03<00:00, 569928.66it/s]\n",
      " 87%|███████████████████████████████████████████████████████████         | 1433600/1648877 [00:03<00:00, 583576.63it/s]\n",
      " 92%|██████████████████████████████████████████████████████████████▊     | 1523712/1648877 [00:03<00:00, 646927.47it/s]\n",
      " 97%|██████████████████████████████████████████████████████████████████▏ | 1605632/1648877 [00:03<00:00, 690460.55it/s]\n",
      "1654784it [00:03, 479220.35it/s]                                                                                       "
     ]
    },
    {
     "name": "stdout",
     "output_type": "stream",
     "text": [
      "Extracting ./mnist/MNIST\\raw\\t10k-images-idx3-ubyte.gz to ./mnist/MNIST\\raw\n",
      "Downloading http://yann.lecun.com/exdb/mnist/t10k-labels-idx1-ubyte.gz to ./mnist/MNIST\\raw\\t10k-labels-idx1-ubyte.gz\n"
     ]
    },
    {
     "name": "stderr",
     "output_type": "stream",
     "text": [
      "\n",
      "0it [00:00, ?it/s]\n",
      "  0%|                                                                                         | 0/4542 [00:01<?, ?it/s]\n",
      "8192it [00:01, 5344.04it/s]                                                                                            "
     ]
    },
    {
     "name": "stdout",
     "output_type": "stream",
     "text": [
      "Extracting ./mnist/MNIST\\raw\\t10k-labels-idx1-ubyte.gz to ./mnist/MNIST\\raw\n",
      "Processing...\n",
      "Done!\n"
     ]
    },
    {
     "name": "stderr",
     "output_type": "stream",
     "text": [
      "\r",
      "9920512it [00:30, 1184330.09it/s]                                                                                      "
     ]
    }
   ],
   "source": [
    "train_data = torchvision.datasets.MNIST(\n",
    "    root = './mnist/',\n",
    "    train =True,\n",
    "    transform = torchvision.transforms.ToTensor(),\n",
    "    download = DOWNLOAD_MNIST,\n",
    ")"
   ]
  },
  {
   "cell_type": "code",
   "execution_count": 14,
   "metadata": {},
   "outputs": [
    {
     "name": "stdout",
     "output_type": "stream",
     "text": [
      "torch.Size([60000, 28, 28])\n",
      "torch.Size([60000])\n"
     ]
    },
    {
     "data": {
      "image/png": "[encoded data removed]",
      "text/plain": [
       "<Figure size 432x288 with 1 Axes>"
      ]
     },
     "metadata": {
      "needs_background": "light"
     },
     "output_type": "display_data"
    }
   ],
   "source": [
    "#plot one example\n",
    "print(train_data.data.size())   #(60000,28,28)\n",
    "print(train_data.targets.size()) #(60000)\n",
    "plt.imshow(train_data.data[0].numpy(),cmap='gray')\n",
    "plt.title('%i'% train_data.targets[0])\n",
    "plt.show()"
   ]
  },
  {
   "cell_type": "code",
   "execution_count": 10,
   "metadata": {},
   "outputs": [],
   "source": [
    "train_loader = Data.DataLoader(dataset = train_data,batch_size = BATCH_SIZE,shuffle=True)\n"
   ]
  },
  {
   "cell_type": "code",
   "execution_count": 13,
   "metadata": {},
   "outputs": [],
   "source": [
    "test_data = torchvision.datasets.MNIST(root='./mnist/',train=False)\n",
    "test_x = torch.unsqueeze(test_data.data,dim=1).type(torch.FloatTensor)[:2000]/255\n",
    "test_y = test_data.targets[:2000]"
   ]
  },
  {
   "cell_type": "code",
   "execution_count": 20,
   "metadata": {},
   "outputs": [],
   "source": [
    "class CNN(nn.Module):\n",
    "    def __init__(self):\n",
    "        super(CNN,self).__init__()\n",
    "        self.conv1 = nn.Sequential(\n",
    "            nn.Conv2d(1,16,5,1,2),\n",
    "            nn.ReLU(),\n",
    "            nn.MaxPool2d(2),\n",
    "        )\n",
    "        \n",
    "        self.conv2 = nn.Sequential(\n",
    "            nn.Conv2d(16,32,5,1,2),\n",
    "            nn.ReLU(),\n",
    "            nn.MaxPool2d(2),\n",
    "        )\n",
    "        \n",
    "        self.out = nn.Linear(32*7*7,10)\n",
    "        \n",
    "    def forward(self,x):\n",
    "        x = self.conv1(x)\n",
    "        x = self.conv2(x)\n",
    "        x = x.view(x.size(0),-1)\n",
    "        output = self.out(x)\n",
    "        return output,x"
   ]
  },
  {
   "cell_type": "code",
   "execution_count": 21,
   "metadata": {},
   "outputs": [],
   "source": [
    "cnn = CNN()\n",
    "optimizer = torch.optim.Adam(cnn.parameters(),lr=LR)\n",
    "loss_func = nn.CrossEntropyLoss()"
   ]
  },
  {
   "cell_type": "code",
   "execution_count": 25,
   "metadata": {},
   "outputs": [
    {
     "name": "stdout",
     "output_type": "stream",
     "text": [
      "Epoch:  0 | train loss: 2.3167 | test accuracy: 0.14\n",
      "Epoch:  0 | train loss: 0.5067 | test accuracy: 0.79\n",
      "Epoch:  0 | train loss: 0.3850 | test accuracy: 0.89\n",
      "Epoch:  0 | train loss: 0.1797 | test accuracy: 0.90\n",
      "Epoch:  0 | train loss: 0.1353 | test accuracy: 0.94\n",
      "Epoch:  0 | train loss: 0.1600 | test accuracy: 0.93\n",
      "Epoch:  0 | train loss: 0.1367 | test accuracy: 0.94\n",
      "Epoch:  0 | train loss: 0.3366 | test accuracy: 0.95\n",
      "Epoch:  0 | train loss: 0.0875 | test accuracy: 0.96\n",
      "Epoch:  0 | train loss: 0.2084 | test accuracy: 0.96\n",
      "Epoch:  0 | train loss: 0.0623 | test accuracy: 0.96\n",
      "Epoch:  0 | train loss: 0.0539 | test accuracy: 0.96\n",
      "Epoch:  0 | train loss: 0.0323 | test accuracy: 0.97\n",
      "Epoch:  0 | train loss: 0.0344 | test accuracy: 0.96\n",
      "Epoch:  0 | train loss: 0.1099 | test accuracy: 0.97\n",
      "Epoch:  0 | train loss: 0.0815 | test accuracy: 0.97\n",
      "Epoch:  0 | train loss: 0.0605 | test accuracy: 0.98\n",
      "Epoch:  0 | train loss: 0.1889 | test accuracy: 0.98\n",
      "Epoch:  0 | train loss: 0.0178 | test accuracy: 0.98\n",
      "Epoch:  0 | train loss: 0.0582 | test accuracy: 0.97\n",
      "Epoch:  0 | train loss: 0.0239 | test accuracy: 0.97\n",
      "Epoch:  0 | train loss: 0.1474 | test accuracy: 0.98\n",
      "Epoch:  0 | train loss: 0.0870 | test accuracy: 0.97\n",
      "Epoch:  0 | train loss: 0.1114 | test accuracy: 0.98\n"
     ]
    }
   ],
   "source": [
    "for epoch in range(EPOCH):\n",
    "    for step,(b_x,b_y) in enumerate(train_loader):\n",
    "        output = cnn(b_x)[0]\n",
    "        loss  =loss_func(output,b_y)\n",
    "        optimizer.zero_grad()\n",
    "        loss.backward()\n",
    "        optimizer.step()\n",
    "        \n",
    "        if step%50 == 0:\n",
    "            test_output,last_layer = cnn(test_x)\n",
    "            pred_y = torch.max(test_output,1)[1].data.numpy()\n",
    "            accuracy = float((pred_y == test_y.data.numpy()).astype(int).sum())/float(test_y.size(0))\n",
    "            print('Epoch: ', epoch, '| train loss: %.4f' % loss.data.numpy(), '| test accuracy: %.2f' % accuracy)"
   ]
  },
  {
   "cell_type": "code",
   "execution_count": 26,
   "metadata": {},
   "outputs": [
    {
     "data": {
      "text/plain": [
       "array([7, 2, 1, ..., 3, 9, 5], dtype=int64)"
      ]
     },
     "execution_count": 26,
     "metadata": {},
     "output_type": "execute_result"
    }
   ],
   "source": [
    "pred_y"
   ]
  }
 ],
 "metadata": {
  "kernelspec": {
   "display_name": "Python 3",
   "language": "python",
   "name": "python3"
  },
  "language_info": {
   "codemirror_mode": {
    "name": "ipython",
    "version": 3
   },
   "file_extension": ".py",
   "mimetype": "text/x-python",
   "name": "python",
   "nbconvert_exporter": "python",
   "pygments_lexer": "ipython3",
   "version": "3.7.0"
  }
 },
 "nbformat": 4,
 "nbformat_minor": 2
}
