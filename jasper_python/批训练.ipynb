{
 "cells": [
  {
   "cell_type": "code",
   "execution_count": 1,
   "metadata": {},
   "outputs": [],
   "source": [
    "import torch\n",
    "import torch.utils.data as Data"
   ]
  },
  {
   "cell_type": "code",
   "execution_count": 2,
   "metadata": {},
   "outputs": [
    {
     "data": {
      "text/plain": [
       "<torch._C.Generator at 0x18653cc3670>"
      ]
     },
     "execution_count": 2,
     "metadata": {},
     "output_type": "execute_result"
    }
   ],
   "source": [
    "torch.manual_seed(1)"
   ]
  },
  {
   "cell_type": "code",
   "execution_count": 4,
   "metadata": {},
   "outputs": [],
   "source": [
    "batch_size=5\n",
    "\n",
    "x = torch.linspace(1,10,10)\n",
    "y = torch.linspace(10,1,10)"
   ]
  },
  {
   "cell_type": "code",
   "execution_count": 6,
   "metadata": {},
   "outputs": [],
   "source": [
    "#先转换为torch能识别的Datasets\n",
    "torch_dataset = Data.TensorDataset(x,y)"
   ]
  },
  {
   "cell_type": "code",
   "execution_count": 7,
   "metadata": {},
   "outputs": [],
   "source": [
    "#把dataset放入DataLoader\n",
    "loader = Data.DataLoader(\n",
    "    dataset = torch_dataset,\n",
    "    batch_size=batch_size,\n",
    "    shuffle = True,\n",
    "    num_workers = 2,\n",
    ")"
   ]
  },
  {
   "cell_type": "code",
   "execution_count": 8,
   "metadata": {},
   "outputs": [],
   "source": [
    "import numpy"
   ]
  },
  {
   "cell_type": "code",
   "execution_count": 10,
   "metadata": {},
   "outputs": [
    {
     "name": "stdout",
     "output_type": "stream",
     "text": [
      "Epoch:  0 |Step:  0 |batch_x : [ 4.  6.  7. 10.  8.] |batch_y:  [7. 5. 4. 1. 3.]\n",
      "Epoch:  0 |Step:  1 |batch_x : [5. 3. 2. 1. 9.] |batch_y:  [ 6.  8.  9. 10.  2.]\n",
      "Epoch:  1 |Step:  0 |batch_x : [ 4.  2.  5.  6. 10.] |batch_y:  [7. 9. 6. 5. 1.]\n",
      "Epoch:  1 |Step:  1 |batch_x : [3. 9. 1. 8. 7.] |batch_y:  [ 8.  2. 10.  3.  4.]\n",
      "Epoch:  2 |Step:  0 |batch_x : [ 4. 10.  9.  8.  7.] |batch_y:  [7. 1. 2. 3. 4.]\n",
      "Epoch:  2 |Step:  1 |batch_x : [6. 1. 2. 5. 3.] |batch_y:  [ 5. 10.  9.  6.  8.]\n"
     ]
    }
   ],
   "source": [
    "for epoch in range(3):\n",
    "    for step,(batch_x,batch_y) in enumerate(loader):\n",
    "        #假设此处为训练的地方\n",
    "        \n",
    "        print('Epoch: ',epoch,'|Step: ',step,'|batch_x :',batch_x.numpy(),\n",
    "             '|batch_y: ',batch_y.numpy())"
   ]
  }
 ],
 "metadata": {
  "kernelspec": {
   "display_name": "Python 3",
   "language": "python",
   "name": "python3"
  },
  "language_info": {
   "codemirror_mode": {
    "name": "ipython",
    "version": 3
   },
   "file_extension": ".py",
   "mimetype": "text/x-python",
   "name": "python",
   "nbconvert_exporter": "python",
   "pygments_lexer": "ipython3",
   "version": "3.7.0"
  }
 },
 "nbformat": 4,
 "nbformat_minor": 2
}
