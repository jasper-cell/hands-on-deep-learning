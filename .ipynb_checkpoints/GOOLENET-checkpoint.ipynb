{
 "cells": [
  {
   "cell_type": "markdown",
   "metadata": {},
   "source": [
    "# GOOGLENET"
   ]
  },
  {
   "cell_type": "markdown",
   "metadata": {},
   "source": [
    "### INCEPTION块"
   ]
  },
  {
   "cell_type": "markdown",
   "metadata": {},
   "source": [
    "inception块中可以自定义的超参数是每个层的输出通道数，我们以此来控制模型复杂度"
   ]
  },
  {
   "cell_type": "code",
   "execution_count": 1,
   "metadata": {},
   "outputs": [],
   "source": [
    "import time\n",
    "import torch\n",
    "from torch import nn,optim\n",
    "import torch.nn.functional as F\n",
    "\n",
    "import sys\n",
    "sys.path.append(\"..\")\n",
    "import d2lzh_pytorch as d2l\n",
    "device = torch.device('cuda' if torch.cuda.is_available() else 'cpu')"
   ]
  },
  {
   "cell_type": "code",
   "execution_count": 2,
   "metadata": {},
   "outputs": [],
   "source": [
    "class Inception(nn.Module):\n",
    "    #c1 - c4 为每条路线里的层的输出通道数\n",
    "    def __init__(self,in_c,c1,c2,c3,c4):\n",
    "        super(Inception,self).__init__()\n",
    "        #线路1，单1x1卷积层\n",
    "        self.p1_1 = nn.Conv2d(in_c,c1,kernel_size = 1)\n",
    "        #线路2，1x1卷积层后接3x3卷积层\n",
    "        self.p2_1 = nn.Conv2d(in_c,c2[0],kernel_size = 1)\n",
    "        self.p2_2 = nn.Conv2d(c2[0],c2[1],kernel_size = 3,padding = 1)\n",
    "        #线路3，1x1卷积层后接5x5卷积层\n",
    "        self.p3_1 = nn.Conv2d(in_c,c3[0],kernel_size = 1)\n",
    "        self.p3_2 = nn.Conv2d(c3[0],c3[1],kernel_size = 5,padding = 2)\n",
    "        #线路4，3x3最大池化层后接1x1卷积层\n",
    "        self.p4_1 = nn.MaxPool2d(kernel_size = 3,stride = 1,padding =1)\n",
    "        self.p4_2 = nn.Conv2d(in_c,c4,kernel_size = 1)\n",
    "    def forward(self,x):\n",
    "        p1 = F.relu(self.p1_1(x))\n",
    "        p2 = F.relu(self.p2_2(F.relu(self.p2_1(x))))\n",
    "        p3 = F.relu(self.p3_2(F.relu(self.p3_1(x))))\n",
    "        p4 = F.relu(self.p4_2(self.p4_1(x)))\n",
    "        return torch.cat((p1,p2,p3,p4),dim = 1)#在通道维上连接输出"
   ]
  },
  {
   "cell_type": "markdown",
   "metadata": {},
   "source": [
    "### GOOGLENET模型"
   ]
  },
  {
   "cell_type": "markdown",
   "metadata": {},
   "source": [
    "Googlenet 跟VGG一样，在主体卷积部分中使用5个模块（block），每个模块\n",
    "之间使用步幅为2的3x3最大池化层来减少输出高宽。第一个模块使用一个64通道\n",
    "的7x7卷积层"
   ]
  },
  {
   "cell_type": "code",
   "execution_count": 3,
   "metadata": {},
   "outputs": [],
   "source": [
    "b1 = nn.Sequential(nn.Conv2d(1,64,kernel_size = 7,stride=2,padding = 3),\n",
    "                  nn.ReLU(),\n",
    "                  nn.MaxPool2d(kernel_size=3,stride=2,padding=1))"
   ]
  },
  {
   "cell_type": "markdown",
   "metadata": {},
   "source": [
    "第二个模块使用2个卷积层：首先是64通道的1*1卷积层，然后是将通道增大3倍的3*3卷积层。它对应inception中的第二条路线"
   ]
  },
  {
   "cell_type": "code",
   "execution_count": 4,
   "metadata": {},
   "outputs": [],
   "source": [
    "b2 = nn.Sequential(nn.Conv2d(64,64,kernel_size=1),\n",
    "                  nn.Conv2d(64,192,kernel_size=3,padding=1),\n",
    "                  nn.MaxPool2d(kernel_size=3,stride=2,padding=1))"
   ]
  },
  {
   "cell_type": "code",
   "execution_count": 5,
   "metadata": {},
   "outputs": [],
   "source": [
    "b3 = nn.Sequential(Inception(192,64,(96,128),(16,32),32),\n",
    "                  Inception(256,128,(128,192),(32,96),64),\n",
    "                  nn.MaxPool2d(kernel_size=3,stride=2,padding=1))"
   ]
  },
  {
   "cell_type": "code",
   "execution_count": 9,
   "metadata": {},
   "outputs": [],
   "source": [
    "b4 = nn.Sequential(Inception(480,192,(96,208),(16,48),64),\n",
    "                  Inception(512,160,(112,224),(24,64),64),\n",
    "                  Inception(512,128,(128,256),(24,64),64),\n",
    "                  Inception(512,112,(114,288),(32,64),64),\n",
    "                  Inception(528,256,(160,320),(32,128),128),\n",
    "                  nn.MaxPool2d(kernel_size=3,stride=2,padding=1))"
   ]
  },
  {
   "cell_type": "code",
   "execution_count": 10,
   "metadata": {},
   "outputs": [],
   "source": [
    "b5 = nn.Sequential(Inception(832,256,(160,320),(32,128),128),\n",
    "                  Inception(832,384,(192,384),(48,128),128),\n",
    "                  d2l.GlobalAvgPool2d())\n",
    "\n",
    "net = nn.Sequential(b1,b2,b3,b4,b5,\n",
    "                   d2l.FlattenLayer(),nn.Linear(1024,10))"
   ]
  },
  {
   "cell_type": "markdown",
   "metadata": {},
   "source": [
    "Googlenet模型计算复杂，而且不如VGG那样便于修改通道数。我们将输入的高和宽从224降低到\n",
    "96来简化计算。以下输出各个模块之间的输出形状的变化"
   ]
  },
  {
   "cell_type": "code",
   "execution_count": 11,
   "metadata": {},
   "outputs": [
    {
     "name": "stdout",
     "output_type": "stream",
     "text": [
      "output shape:  torch.Size([1, 64, 24, 24])\n",
      "output shape:  torch.Size([1, 192, 12, 12])\n",
      "output shape:  torch.Size([1, 480, 6, 6])\n",
      "output shape:  torch.Size([1, 832, 3, 3])\n",
      "output shape:  torch.Size([1, 1024, 1, 1])\n",
      "output shape:  torch.Size([1, 1024])\n",
      "output shape:  torch.Size([1, 10])\n"
     ]
    }
   ],
   "source": [
    "X = torch.rand(1,1,96,96)\n",
    "for blk in net.children():\n",
    "    X = blk(X)\n",
    "    print('output shape: ',X.shape)"
   ]
  },
  {
   "cell_type": "code",
   "execution_count": null,
   "metadata": {},
   "outputs": [],
   "source": [
    "batch_size = 128\n",
    "train_iter,test_iter = d2l.load_data_fashion_mnist(batch_size,resize=96)\n",
    "\n",
    "lr,num_epochs = 0.001,5\n",
    "optimizer = torch.optim.Adam(net.parameters(),lr=lr)\n",
    "d2l.train_ch5(net,train_iter,test_iter,batch_size,optimizer,device,num_epochs)"
   ]
  },
  {
   "cell_type": "markdown",
   "metadata": {},
   "source": [
    "### 小结"
   ]
  },
  {
   "cell_type": "markdown",
   "metadata": {},
   "source": [
    "*inception块相当于一个有4条线路的子网络。它通过不同窗口形状的卷积层和最大池化层来并行抽取信息，并使用1x1卷积层减少通道数从而降低模型的复杂度"
   ]
  },
  {
   "cell_type": "markdown",
   "metadata": {},
   "source": [
    "__.__ GooLeNet将多个设计精细的inception块和其他层串联起来。其中inception块的通道数分配之比是在imagenet的数据集上通过大量的实验得来的"
   ]
  },
  {
   "cell_type": "markdown",
   "metadata": {},
   "source": [
    "*goolenet和它后继者们一度是imagenet上最高效的模型之一：在其他类似的测试精度下，他们的计算复杂度往往更低"
   ]
  }
 ],
 "metadata": {
  "kernelspec": {
   "display_name": "Python 3",
   "language": "python",
   "name": "python3"
  },
  "language_info": {
   "codemirror_mode": {
    "name": "ipython",
    "version": 3
   },
   "file_extension": ".py",
   "mimetype": "text/x-python",
   "name": "python",
   "nbconvert_exporter": "python",
   "pygments_lexer": "ipython3",
   "version": "3.7.0"
  }
 },
 "nbformat": 4,
 "nbformat_minor": 2
}
