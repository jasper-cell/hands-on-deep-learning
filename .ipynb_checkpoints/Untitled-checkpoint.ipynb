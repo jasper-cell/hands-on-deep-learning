{
 "cells": [
  {
   "cell_type": "markdown",
   "metadata": {},
   "source": [
    "# RecurrentNet"
   ]
  },
  {
   "cell_type": "code",
   "execution_count": 2,
   "metadata": {},
   "outputs": [
    {
     "data": {
      "text/plain": [
       "tensor([[-0.3261, -1.3637, -0.1654, -1.6860],\n",
       "        [-0.7695, -1.8556,  0.2800, -0.7074],\n",
       "        [ 0.0824, -2.2484,  0.2327, -0.8238]])"
      ]
     },
     "execution_count": 2,
     "metadata": {},
     "output_type": "execute_result"
    }
   ],
   "source": [
    "import torch\n",
    "\n",
    "X,W_xh = torch.randn(3,1),torch.randn(1,4)\n",
    "H,W_hh = torch.randn(3,4),torch.randn(4,4)\n",
    "torch.matmul(X,W_xh) + torch.matmul(H,W_hh)"
   ]
  },
  {
   "cell_type": "code",
   "execution_count": 7,
   "metadata": {},
   "outputs": [
    {
     "data": {
      "text/plain": [
       "tensor([[-0.3261, -1.3637, -0.1654, -1.6860],\n",
       "        [-0.7695, -1.8556,  0.2800, -0.7074],\n",
       "        [ 0.0824, -2.2484,  0.2327, -0.8238]])"
      ]
     },
     "execution_count": 7,
     "metadata": {},
     "output_type": "execute_result"
    }
   ],
   "source": [
    "torch.matmul(torch.cat((X,H),dim=1),torch.cat((W_xh,W_hh),dim=0))"
   ]
  },
  {
   "cell_type": "markdown",
   "metadata": {},
   "source": [
    "### 语言模型数据集（周杰伦专辑歌词）"
   ]
  },
  {
   "cell_type": "markdown",
   "metadata": {},
   "source": [
    "读取数据集"
   ]
  },
  {
   "cell_type": "code",
   "execution_count": 10,
   "metadata": {},
   "outputs": [
    {
     "data": {
      "text/plain": [
       "'想要有直升机\\n想要和你飞到宇宙去\\n想要和你融化在一起\\n融化在宇宙里\\n我每天每天每'"
      ]
     },
     "execution_count": 10,
     "metadata": {},
     "output_type": "execute_result"
    }
   ],
   "source": [
    "import torch \n",
    "import random\n",
    "import zipfile\n",
    "\n",
    "with zipfile.ZipFile('data/jaychou_lyrics.txt.zip') as zin:\n",
    "    with zin.open('jaychou_lyrics.txt') as f:\n",
    "        corpus_chars = f.read().decode('utf-8')\n",
    "corpus_chars[:40]"
   ]
  },
  {
   "cell_type": "markdown",
   "metadata": {},
   "source": [
    "这个数据集有6万多字符。为了打印方便，我们把换行符替换成空格。然后仅使用前1万个字符来训练模型m"
   ]
  },
  {
   "cell_type": "code",
   "execution_count": 11,
   "metadata": {},
   "outputs": [],
   "source": [
    "corpus_chars = corpus_chars.replace('\\n',' ').replace('\\r',' ')\n",
    "corpus_chars = corpus_chars[0:10000]"
   ]
  },
  {
   "cell_type": "markdown",
   "metadata": {},
   "source": [
    "### 建立字符索引"
   ]
  },
  {
   "cell_type": "markdown",
   "metadata": {},
   "source": [
    "我们将每个字符映射成⼀个从0开始的连续整数，⼜称索引，来⽅便之后的数据处理。为了得到索引，\n",
    "我 们 将 数 据 集 ⾥ 所 有 不 同 字 符 取 出 来 ， 然 后 将 其 逐 ⼀ 映 射 到 索 引 来 构 造 词 典 。 接 着 ， 打\n",
    "印 vocab_size ，即词典中不同字符的个数，⼜称词典⼤⼩。"
   ]
  },
  {
   "cell_type": "code",
   "execution_count": 13,
   "metadata": {},
   "outputs": [
    {
     "data": {
      "text/plain": [
       "1027"
      ]
     },
     "execution_count": 13,
     "metadata": {},
     "output_type": "execute_result"
    }
   ],
   "source": [
    "idx_to_char = list(set(corpus_chars))\n",
    "char_to_idx = dict([(char,i) for i,char in enumerate(idx_to_char)])\n",
    "vocab_size = len(char_to_idx)\n",
    "vocab_size"
   ]
  },
  {
   "cell_type": "markdown",
   "metadata": {},
   "source": [
    "之后，将训练数据集中每个字符转化为索引，并打印前20个字符及其对应的索引"
   ]
  },
  {
   "cell_type": "code",
   "execution_count": 15,
   "metadata": {},
   "outputs": [
    {
     "name": "stdout",
     "output_type": "stream",
     "text": [
      "chars: 想要有直升机 想要和你飞到宇宙去 想要和\n",
      "indices: [675, 29, 545, 240, 47, 685, 367, 675, 29, 262, 933, 42, 747, 85, 715, 298, 367, 675, 29, 262]\n"
     ]
    }
   ],
   "source": [
    "corpus_indices = [char_to_idx[char] for char in corpus_chars]\n",
    "sample = corpus_indices[:20]\n",
    "print('chars:',''.join([idx_to_char[idx] for idx in sample]))\n",
    "print('indices:',sample)"
   ]
  },
  {
   "cell_type": "markdown",
   "metadata": {},
   "source": [
    "我们将以上代码封装在 d2lzh_pytorch 包⾥的 load_data_jay_lyrics 函数中，以⽅便后⾯章节调\n",
    "⽤。调⽤该函数后会依次得到 corpus_indices 、 char_to_idx 、 idx_to_char 和 vocab_size 这\n",
    "4个变量。"
   ]
  },
  {
   "cell_type": "markdown",
   "metadata": {},
   "source": [
    "### 时序数据的采样"
   ]
  },
  {
   "cell_type": "markdown",
   "metadata": {},
   "source": [
    "在训练中我们需要每次随机读取⼩批量样本和标签。与之前章节的实验数据不同的是，时序数据的⼀个\n",
    "样本通常包含连续的字符。假设时间步数为5，样本序列为5个字符，即“想”“要”“有”“直”“升”。该样本\n",
    "的标签序列为这些字符分别在训练集中的下⼀个字符，即“要”“有”“直”“升”“机”。我们有两种⽅式对时\n",
    "序数据进⾏采样，分别是随机采样和相邻采样。"
   ]
  },
  {
   "cell_type": "markdown",
   "metadata": {},
   "source": [
    "#### 随机采样"
   ]
  },
  {
   "cell_type": "markdown",
   "metadata": {},
   "source": [
    "下⾯的代码每次从数据⾥随机采样⼀个⼩批量。其中批量⼤⼩ batch_size 指每个⼩批量的样本\n",
    "数， num_steps 为每个样本所包含的时间步数。 在随机采样中，每个样本是原始序列上任意截取的⼀\n",
    "段序列。相邻的两个随机⼩批量在原始序列上的位置不⼀定相毗邻。因此，我们⽆法⽤⼀个⼩批量最终\n",
    "时间步的隐藏状态来初始化下⼀个⼩批量的隐藏状态。在训练模型时，每次随机采样前都需要᯿新初始\n",
    "化隐藏状态。"
   ]
  },
  {
   "cell_type": "code",
   "execution_count": 19,
   "metadata": {},
   "outputs": [],
   "source": [
    "def data_iter_random(corpus_indices,batch_size,num_steps,device=None):\n",
    "    #减1是因为输出的索引x是相应输入索引y加1\n",
    "    num_examples = (len(corpus_indices)-1)//num_steps\n",
    "    epoch_size = num_examples//batch_size\n",
    "    example_indices = list(range(num_examples))\n",
    "    random.shuffle(example_indices)\n",
    "    \n",
    "    #返回从pos开始的长为num_steps的序列\n",
    "    def _data(pos):\n",
    "        return corpus_indices[pos:pos+num_steps]\n",
    "    if device is None:\n",
    "        device = torch.device('cuda' if torch.cuda.is_available() else 'cpu')\n",
    "        \n",
    "    for i in range(epoch_size):\n",
    "        #每次读取batch_size个随机样本\n",
    "        i = i * batch_size\n",
    "        batch_indices = example_indices[i:i+batch_size]\n",
    "        X = [_data(j*num_steps) for j in batch_indices]\n",
    "        Y = [_data(j*num_steps+1) for j in batch_indices]\n",
    "        yield torch.tensor(X,dtype = torch.float32,device = device)\n",
    "    torch.tensor(Y,dtype = torch.float32,device=device)"
   ]
  },
  {
   "cell_type": "markdown",
   "metadata": {},
   "source": [
    "让我们输⼊⼀个从0到29的连续整数的⼈⼯序列。设批量⼤⼩和时间步数分别为2和6。打印随机采样每\n",
    "次读取的⼩批量样本的输⼊ X 和标签 Y 。可⻅，相邻的两个随机⼩批量在原始序列上的位置不⼀定相\n",
    "毗邻。"
   ]
  },
  {
   "cell_type": "code",
   "execution_count": 20,
   "metadata": {},
   "outputs": [
    {
     "name": "stdout",
     "output_type": "stream",
     "text": [
      "X:  tensor([18., 19., 20., 21., 22., 23.]) \n",
      "Y: tensor([0., 1., 2., 3., 4., 5.]) \n",
      "\n",
      "X:  tensor([ 6.,  7.,  8.,  9., 10., 11.]) \n",
      "Y: tensor([12., 13., 14., 15., 16., 17.]) \n",
      "\n"
     ]
    }
   ],
   "source": [
    "my_seq = list(range(30))\n",
    "for X,Y in data_iter_random(my_seq,batch_size=2,num_steps=6):\n",
    "    print('X: ',X,'\\nY:',Y,'\\n')"
   ]
  },
  {
   "cell_type": "markdown",
   "metadata": {},
   "source": [
    "### 相邻采样"
   ]
  },
  {
   "cell_type": "markdown",
   "metadata": {},
   "source": [
    "除对原始序列做随机采样之外，我们还可以令相邻的两个随机⼩批量在原始序列上的位置相毗邻。这时\n",
    "候，我们就可以⽤⼀个⼩批量最终时间步的隐藏状态来初始化下⼀个⼩批量的隐藏状态，从⽽使下⼀个\n",
    "⼩批量的输出也取决于当前⼩批量的输⼊，并如此循环下去。这对实现循环神经⽹络造成了两⽅⾯影\n",
    "响：⼀⽅⾯， 在训练模型时，我们只需在每⼀个迭代周期开始时初始化隐藏状态；另⼀⽅⾯，当多个相\n",
    "邻⼩批量通过传递隐藏状态串联起来时，模型参数的梯度计算将依赖所有串联起来的⼩批量序列。同⼀\n",
    "迭代周期中，随着迭代次数的增加，梯度的计算开销会越来越⼤。 为了使模型参数的梯度计算只依赖⼀迭代周期中，随着迭代次数的增加，梯度的计算开销会越来越⼤。 为了使模型参数的梯度计算只依赖⼀次迭代读取的⼩批量序列，我们可以在每次读取⼩批量前将隐藏状态从计算图中分离出来。我们将在下\n",
    "⼀节（循环神经⽹络的从零开始实现）的实现中了解这种处理⽅式。"
   ]
  },
  {
   "cell_type": "code",
   "execution_count": 24,
   "metadata": {},
   "outputs": [],
   "source": [
    "def data_iter_consecutive(corpus_indices,batch_size,num_steps,device=None):\n",
    "    if device is None:\n",
    "        device = torch.device('cuda' if torch.cuda.is_available() else 'cpu')\n",
    "    corpus_indices = torch.tensor(corpus_indices,dtype=torch.float32,device=device)\n",
    "    data_len = len(corpus_indices)\n",
    "    batch_len = data_len//batch_size\n",
    "    indices = corpus_indices[0:batch_size*batch_len].view(batch_size,batch_len)\n",
    "    epoch_size = (batch_len - 1)//num_steps\n",
    "    for i in range(epoch_size):\n",
    "        i = i*num_steps\n",
    "        X = indices[:,i:i+num_steps]\n",
    "        Y = indices[:,i+1:i+num_steps+1]\n",
    "        yield X,Y"
   ]
  },
  {
   "cell_type": "markdown",
   "metadata": {},
   "source": [
    "同样的设置下，打印相邻采样每次读取的⼩批量样本的输⼊ X 和标签 Y 。相邻的两个随机⼩批量在原\n",
    "始序列上的位置相毗邻。"
   ]
  },
  {
   "cell_type": "code",
   "execution_count": 25,
   "metadata": {},
   "outputs": [
    {
     "name": "stdout",
     "output_type": "stream",
     "text": [
      "X:  tensor([[ 0.,  1.,  2.,  3.,  4.,  5.],\n",
      "        [15., 16., 17., 18., 19., 20.]]) \n",
      "Y: tensor([[ 1.,  2.,  3.,  4.,  5.,  6.],\n",
      "        [16., 17., 18., 19., 20., 21.]]) \n",
      "\n",
      "X:  tensor([[ 6.,  7.,  8.,  9., 10., 11.],\n",
      "        [21., 22., 23., 24., 25., 26.]]) \n",
      "Y: tensor([[ 7.,  8.,  9., 10., 11., 12.],\n",
      "        [22., 23., 24., 25., 26., 27.]]) \n",
      "\n"
     ]
    }
   ],
   "source": [
    "for X,Y in data_iter_consecutive(my_seq,batch_size=2,num_steps=6):\n",
    "    print('X: ',X,'\\nY:',Y,'\\n')"
   ]
  },
  {
   "cell_type": "markdown",
   "metadata": {},
   "source": [
    "时序数据采样⽅式包括随机采样和相邻采样。使⽤这两种⽅式的循环神经⽹络训练在实现上略有\n",
    "不同。"
   ]
  },
  {
   "cell_type": "markdown",
   "metadata": {},
   "source": [
    "### 循环神经网络的从零开始实现"
   ]
  },
  {
   "cell_type": "code",
   "execution_count": null,
   "metadata": {},
   "outputs": [],
   "source": []
  }
 ],
 "metadata": {
  "kernelspec": {
   "display_name": "Python 3",
   "language": "python",
   "name": "python3"
  },
  "language_info": {
   "codemirror_mode": {
    "name": "ipython",
    "version": 3
   },
   "file_extension": ".py",
   "mimetype": "text/x-python",
   "name": "python",
   "nbconvert_exporter": "python",
   "pygments_lexer": "ipython3",
   "version": "3.7.0"
  }
 },
 "nbformat": 4,
 "nbformat_minor": 2
}
